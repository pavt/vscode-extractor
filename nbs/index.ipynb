{
 "cells": [
  {
   "cell_type": "markdown",
   "metadata": {},
   "source": [
    "# vscode-extractor\n",
    "\n",
    "> Una biblioteca para extraer metadatos y analizar extensiones del Marketplace de Visual Studio Code."
   ]
  },
  {
   "cell_type": "markdown",
   "metadata": {},
   "source": [
    "## Introducción\n",
    "\n",
    "`vscode-extractor` es una herramienta poderosa diseñada para interactuar con el Visual Studio Code Marketplace, permitiendo la extracción de metadatos, análisis de extensiones, y procesamiento de estadísticas relacionadas con repositorios de GitHub. Ideal para desarrolladores e investigadores que buscan analizar extensiones populares o personalizadas."
   ]
  },
  {
   "cell_type": "markdown",
   "metadata": {},
   "source": [
    "## Instalación\n",
    "\n",
    "Puedes instalar la biblioteca de las siguientes maneras:"
   ]
  },
  {
   "cell_type": "markdown",
   "metadata": {},
   "source": [
    "### Desde GitHub"
   ]
  },
  {
   "cell_type": "code",
   "execution_count": null,
   "metadata": {},
   "outputs": [],
   "source": [
    "pip install git+https://github.com/benjaminserrano23/vscode-extractor.git"
   ]
  },
  {
   "cell_type": "markdown",
   "metadata": {},
   "source": [
    "### Desde PyPI"
   ]
  },
  {
   "cell_type": "code",
   "execution_count": null,
   "metadata": {},
   "outputs": [],
   "source": [
    "pip install vscode-extractor"
   ]
  },
  {
   "cell_type": "markdown",
   "metadata": {},
   "source": [
    "### Desde Conda"
   ]
  },
  {
   "cell_type": "code",
   "execution_count": null,
   "metadata": {},
   "outputs": [],
   "source": [
    "conda install -c benjaminserrano23 vscode-extractor"
   ]
  },
  {
   "cell_type": "markdown",
   "metadata": {},
   "source": [
    "## Características\n",
    "\n",
    "- Extracción de Metadatos: Recopila información detallada de extensiones del Marketplace de Visual Studio Code.\n",
    "\n",
    "- Análisis de GitHub: Integra datos de los repositorios de GitHub asociados, como métricas de código, commits recientes y mucho más.\n",
    "\n",
    "- Exportación de Datos: Convierte resultados en formatos JSON y CSV para facilitar el análisis.\n",
    "\n",
    "- Procesamiento Escalable: Soporta la extracción de datos para un número configurable de extensiones."
   ]
  },
  {
   "cell_type": "markdown",
   "metadata": {},
   "source": [
    "## Uso Básico\n",
    "\n",
    "### Extracción de Extensiones"
   ]
  },
  {
   "cell_type": "code",
   "execution_count": null,
   "metadata": {},
   "outputs": [],
   "source": [
    "from data_collection_benjamin.extension_metadata_extractor import ExtensionMetadataExtractor\n",
    "from dotenv import load_dotenv\n",
    "import os\n",
    "\n",
    "# Cargar las variables de entorno desde el archivo .env\n",
    "load_dotenv()\n",
    "\n",
    "if __name__ == \"__main__\":\n",
    "    github_token = os.getenv(\"GITHUB_TOKEN\")  # Obtener el token de GitHub desde las variables de entorno\n",
    "    extractor = ExtensionMetadataExtractor(github_token)\n",
    "    extractor.run(max_results=10)  # Puedes cambiar a 100 si lo deseas"
   ]
  },
  {
   "cell_type": "markdown",
   "metadata": {},
   "source": [
    "### Exportación a CSV\n",
    "\n",
    "Los datos extraídos se guardan en JSON y se convierten automáticamente a CSV:"
   ]
  },
  {
   "cell_type": "code",
   "execution_count": null,
   "metadata": {},
   "outputs": [],
   "source": [
    "data/1_extensions_initial.json\n",
    "data/1_extensions_initial.csv"
   ]
  }
 ],
 "metadata": {
  "kernelspec": {
   "display_name": "vscode-extractor",
   "language": "python",
   "name": "python3"
  },
  "language_info": {
   "codemirror_mode": {
    "name": "ipython",
    "version": 3
   },
   "file_extension": ".py",
   "mimetype": "text/x-python",
   "name": "python",
   "nbconvert_exporter": "python",
   "pygments_lexer": "ipython3",
   "version": "3.12.0"
  }
 },
 "nbformat": 4,
 "nbformat_minor": 4
}
