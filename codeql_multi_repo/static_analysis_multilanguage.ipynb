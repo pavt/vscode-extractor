{
 "cells": [
  {
   "cell_type": "markdown",
   "metadata": {},
   "source": [
    "### Codeql Analysis\n"
   ]
  },
  {
   "cell_type": "code",
   "execution_count": null,
   "metadata": {},
   "outputs": [],
   "source": [
    "import codeql_analysis as cqa\n",
    "\n",
    "# Define paths based on your updated requirements\n",
    "csv_file_path = 'sampled_repos.csv'                # Path to your CSV file with repository info\n",
    "base_dir = 'path/repos_cloned'          # Directory where repositories are cloned\n",
    "results_dir = 'path/multi_language_results'  # Directory to store CodeQL databases and results\n",
    "\n",
    "# Run the analysis\n",
    "cqa.run_analysis(csv_file_path, base_dir, results_dir, num_repos=304)\n"
   ]
  }
 ],
 "metadata": {
  "kernelspec": {
   "display_name": "notebook_env",
   "language": "python",
   "name": "python3"
  },
  "language_info": {
   "codemirror_mode": {
    "name": "ipython",
    "version": 3
   },
   "file_extension": ".py",
   "mimetype": "text/x-python",
   "name": "python",
   "nbconvert_exporter": "python",
   "pygments_lexer": "ipython3",
   "version": "3.12.0"
  }
 },
 "nbformat": 4,
 "nbformat_minor": 2
}
